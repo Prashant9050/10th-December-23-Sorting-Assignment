{
 "cells": [
  {
   "cell_type": "code",
   "execution_count": 7,
   "id": "91278bff-0f8e-4c31-b014-64e9384af81f",
   "metadata": {},
   "outputs": [],
   "source": [
    "#Problem 1.Given an array of n numbers, give an algorithm which gives the element appearing maximum number of times?"
   ]
  },
  {
   "cell_type": "code",
   "execution_count": 9,
   "id": "b09643b5-41cf-481d-a657-662fee5dcd1d",
   "metadata": {},
   "outputs": [],
   "source": [
    "#: Given an array of n positive numbers. All numbers occurs even number of times except 1 which\n",
    "#occurs odd number of times. Find that number in O(n) time and O(1) space. Ex: [1,2,3,2,3,1,3]. 3 is repeats odd\n",
    "#times."
   ]
  },
  {
   "cell_type": "code",
   "execution_count": 10,
   "id": "3f6f6739-fe93-4490-85aa-3fbe0b8c64bb",
   "metadata": {},
   "outputs": [
    {
     "name": "stdout",
     "output_type": "stream",
     "text": [
      "The number occurring an odd number of times is: 3\n"
     ]
    }
   ],
   "source": [
    "def find_odd_occurrence(arr):\n",
    "    result = 0\n",
    "    for num in arr:\n",
    "        result ^= num\n",
    "    return result\n",
    "\n",
    "# Example usage\n",
    "arr = [1, 2, 3, 2, 3, 1, 3]\n",
    "odd_occurrence = find_odd_occurrence(arr)\n",
    "print(\"The number occurring an odd number of times is:\", odd_occurrence)"
   ]
  },
  {
   "cell_type": "code",
   "execution_count": 11,
   "id": "37b56e72-2be6-4a11-9251-0291a0b0ddc1",
   "metadata": {},
   "outputs": [],
   "source": [
    "# Given an array of n elements. Find two elements in the array such that their sum is equal to givenm element K."
   ]
  },
  {
   "cell_type": "code",
   "execution_count": 12,
   "id": "7067362c-5a30-4622-9840-08d490e797f6",
   "metadata": {},
   "outputs": [
    {
     "name": "stdout",
     "output_type": "stream",
     "text": [
      "The pair with sum 9 is: [8, 1]\n"
     ]
    }
   ],
   "source": [
    "def find_pair_with_sum(arr, K):\n",
    "    complement_map = {}\n",
    "    for num in arr:\n",
    "        complement = K - num\n",
    "        if complement in complement_map:\n",
    "            return [num, complement]\n",
    "        complement_map[num] = True\n",
    "    return None\n",
    "\n",
    "# Example usage\n",
    "arr = [1, 4, 6, 8, 3, 5]\n",
    "K = 9\n",
    "pair = find_pair_with_sum(arr, K)\n",
    "if pair:\n",
    "    print(\"The pair with sum\", K, \"is:\", pair)\n",
    "else:\n",
    "    print(\"No such pair exists.\")"
   ]
  },
  {
   "cell_type": "code",
   "execution_count": 13,
   "id": "9e7e4f97-d709-40f9-aaae-9385062c6cdc",
   "metadata": {},
   "outputs": [],
   "source": [
    "# Given an array of both positive and negative numbers, find two numbers such that their sum is closest to 0. Ex: [ 1 ,60 ,-10, 70, -80,85]. Ans : -80,85."
   ]
  },
  {
   "cell_type": "code",
   "execution_count": 14,
   "id": "0866c282-895d-4511-81bb-65ede49616e2",
   "metadata": {},
   "outputs": [
    {
     "name": "stdout",
     "output_type": "stream",
     "text": [
      "The pair with sum closest to 0 is: (-80, 85)\n"
     ]
    }
   ],
   "source": [
    "def find_closest_to_zero(arr):\n",
    "    arr.sort()  # Sort the array in non-decreasing order\n",
    "    left = 0\n",
    "    right = len(arr) - 1\n",
    "    min_sum = float('inf')\n",
    "    closest_pair = None\n",
    "\n",
    "    while left < right:\n",
    "        current_sum = arr[left] + arr[right]\n",
    "        if abs(current_sum) < abs(min_sum):\n",
    "            min_sum = current_sum\n",
    "            closest_pair = (arr[left], arr[right])\n",
    "\n",
    "        if current_sum < 0:\n",
    "            left += 1\n",
    "        elif current_sum > 0:\n",
    "            right -= 1\n",
    "        else:\n",
    "            return closest_pair\n",
    "\n",
    "    return closest_pair\n",
    "\n",
    "# Example usage\n",
    "arr = [1, 60, -10, 70, -80, 85]\n",
    "closest_pair = find_closest_to_zero(arr)\n",
    "print(\"The pair with sum closest to 0 is:\", closest_pair)"
   ]
  },
  {
   "cell_type": "code",
   "execution_count": 15,
   "id": "164e2a05-67d1-4c84-bd6d-acb8a31f0fbd",
   "metadata": {},
   "outputs": [],
   "source": [
    "# : Given an array of n elements . Find three elements such that their sum is equal to the given number."
   ]
  },
  {
   "cell_type": "code",
   "execution_count": 18,
   "id": "9e28acf8-b818-4b47-9a66-8c6d4db7fd5b",
   "metadata": {},
   "outputs": [
    {
     "name": "stdout",
     "output_type": "stream",
     "text": [
      "The triplet with sum 22 is: [4, 8, 10]\n"
     ]
    }
   ],
   "source": [
    "\n",
    "\n",
    "def find_three_elements_with_sum(arr, target):\n",
    "    arr.sort()  # Sort the array in non-decreasing order\n",
    "    n = len(arr)\n",
    "    \n",
    "    for i in range(n - 2):  # Iterate through the array, considering each element as the first element\n",
    "        left = i + 1\n",
    "        right = n - 1\n",
    "        \n",
    "        while left < right:\n",
    "            current_sum = arr[i] + arr[left] + arr[right]\n",
    "            if current_sum == target:  # Found a triplet\n",
    "                return [arr[i], arr[left], arr[right]]\n",
    "            elif current_sum < target:\n",
    "                left += 1\n",
    "            else:\n",
    "                right -= 1\n",
    "                \n",
    "    return None  # No such triplet found\n",
    "# Example usage\n",
    "arr = [1, 4, 45, 6, 10, 8]\n",
    "target = 22\n",
    "triplet = find_three_elements_with_sum(arr, target)\n",
    "if triplet:\n",
    "    print(\"The triplet with sum\", target, \"is:\", triplet)\n",
    "else:\n",
    "    print(\"No such triplet exists.\")"
   ]
  },
  {
   "cell_type": "code",
   "execution_count": 19,
   "id": "7e6c3c21-f3b4-4551-af5e-0ad8e204c1f8",
   "metadata": {},
   "outputs": [],
   "source": [
    "# : Given an array of n elements . Find three elements i, j, k in the array such that i * i + j * j = k*k."
   ]
  },
  {
   "cell_type": "code",
   "execution_count": 21,
   "id": "66a12bc9-e4f8-4dac-b4bb-9175b5d23063",
   "metadata": {},
   "outputs": [],
   "source": [
    "def find_triplet_with_squares(arr):\n",
    "    # Step 1: Square all elements and store them in a hashmap with their indices\n",
    "    square_map = {}\n",
    "    for i, num in enumerate(arr):\n",
    "        square_map[num * num] = i\n",
    "\n",
    "    # Step 2: Sort the squared array in non-decreasing order\n",
    "    squared_arr = sorted(square_map.keys())\n",
    "\n",
    "    # Step 3: Iterate through the squared array\n",
    "    n = len(squared_arr)\n",
    "    for k_index in range(n - 1, 1, -1):  # Start from the largest element\n",
    "        k = squared_arr[k_index]\n",
    "        left = 0\n",
    "        right = k_index - 1\n",
    "\n",
    "        # Step 4: Use two pointers technique to find i, j\n",
    "        while left < right:\n",
    "            i_square = squared_arr[left]\n",
    "            j_square = squared_arr[right]\n",
    "            if i_square + j_square == k:\n",
    "                i = square_map[i_square]\n",
    "                j = square_map[j_square]\n",
    "                return [arr[i], arr[j], arr[square_map[k]]]\n",
    "            elif i_square + j_square < k:\n",
    "                left += 1\n",
    "      \n"
   ]
  },
  {
   "cell_type": "code",
   "execution_count": 22,
   "id": "b2d19f79-c82a-4ea2-b1a7-1c8672e7df3f",
   "metadata": {},
   "outputs": [],
   "source": [
    "# An element is a majority if it appears more than n/2 times. Give an algorithm takes an array of n element as argument and identifies a majority (if it exists)."
   ]
  },
  {
   "cell_type": "code",
   "execution_count": 23,
   "id": "823de4b9-944c-4e98-957c-3ebff35a16c5",
   "metadata": {},
   "outputs": [
    {
     "name": "stdout",
     "output_type": "stream",
     "text": [
      "The majority element is: 4\n"
     ]
    }
   ],
   "source": [
    "def find_majority_element(arr):\n",
    "    candidate = None\n",
    "    count = 0\n",
    "    \n",
    "    # Step 1: Find the potential candidate\n",
    "    for num in arr:\n",
    "        if count == 0:\n",
    "            candidate = num\n",
    "            count = 1\n",
    "        elif candidate == num:\n",
    "            count += 1\n",
    "        else:\n",
    "            count -= 1\n",
    "    \n",
    "    # Step 2: Count occurrences of the candidate\n",
    "    count_candidate = 0\n",
    "    for num in arr:\n",
    "        if num == candidate:\n",
    "            count_candidate += 1\n",
    "            \n",
    "    # Step 3: Check if the candidate is a majority\n",
    "    if count_candidate > len(arr) / 2:\n",
    "        return candidate\n",
    "    else:\n",
    "        return None\n",
    "\n",
    "# Example usage\n",
    "arr = [3, 3, 4, 2, 4, 4, 2, 4, 4]\n",
    "majority_element = find_majority_element(arr)\n",
    "if majority_element:\n",
    "    print(\"The majority element is:\", majority_element)\n",
    "else:\n",
    "    print(\"No majority element exists.\")\n"
   ]
  },
  {
   "cell_type": "code",
   "execution_count": 24,
   "id": "13001059-3270-4720-b7ef-d5acf6ae9c1b",
   "metadata": {},
   "outputs": [],
   "source": [
    "# : Given n × n matrix, and in each row all 1’s are followed by 0’s. Find the row with the maximum number of 0’s."
   ]
  },
  {
   "cell_type": "code",
   "execution_count": 25,
   "id": "5939f200-51a0-4300-8f9b-c76472aa31ad",
   "metadata": {},
   "outputs": [
    {
     "name": "stdout",
     "output_type": "stream",
     "text": [
      "Row with maximum number of zeros is: 2\n"
     ]
    }
   ],
   "source": [
    "def find_max_zeros_row(matrix):\n",
    "    n = len(matrix)\n",
    "    max_zeros_row = -1\n",
    "    max_zeros_count = -1\n",
    "\n",
    "    for row_index in range(n):\n",
    "        left = 0\n",
    "        right = n - 1\n",
    "        zeros_count = 0\n",
    "\n",
    "        # Binary search to find the first occurrence of 0\n",
    "        while left <= right:\n",
    "            mid = (left + right) // 2\n",
    "            if matrix[row_index][mid] == 0:\n",
    "                zeros_count = mid + 1  # Count of zeros in the row\n",
    "                left = mid + 1\n",
    "            else:\n",
    "                right = mid - 1\n",
    "\n",
    "        # Update max_zeros_row and max_zeros_count\n",
    "        if zeros_count > max_zeros_count:\n",
    "            max_zeros_count = zeros_count\n",
    "            max_zeros_row = row_index\n",
    "\n",
    "    return max_zeros_row\n",
    "\n",
    "# Example usage\n",
    "matrix = [\n",
    "    [1, 1, 1, 0],\n",
    "    [1, 1, 0, 0],\n",
    "    [1, 0, 0, 0],\n",
    "    [1, 1, 1, 1]\n",
    "]\n",
    "max_zeros_row = find_max_zeros_row(matrix)\n",
    "print(\"Row with maximum number of zeros is:\", max_zeros_row)\n"
   ]
  },
  {
   "cell_type": "code",
   "execution_count": null,
   "id": "51bb01a0-cac5-406d-b32d-0fcfa6cd1b28",
   "metadata": {},
   "outputs": [],
   "source": [
    "Sort an array of 0’s, 1’s and 2’s [or R’s, G’s and B’s]: Given an array A[] consisting of 0’s, 1’s and\n",
    "2’s, give an algorithm for sorting A[].The algorithm should put all 0’s first, then all 1’s and finally all 2’s at the\n",
    "end. Example Input = {0,1,1,0,1,2,1,2,0,0,0,1}, Output = {0,0,0,0,0,1,1,1,1,1,2,2}v"
   ]
  },
  {
   "cell_type": "code",
   "execution_count": 27,
   "id": "19cecd51-e6bf-4130-85e7-f90ddfe2fe48",
   "metadata": {},
   "outputs": [
    {
     "name": "stdout",
     "output_type": "stream",
     "text": [
      "Sorted array: [0, 0, 0, 0, 0, 1, 1, 1, 1, 1, 2, 2]\n"
     ]
    }
   ],
   "source": [
    "\n",
    "def sort_colors(nums):\n",
    "    low = 0\n",
    "    mid = 0\n",
    "    high = len(nums) - 1\n",
    "\n",
    "    while mid <= high:\n",
    "        if nums[mid] == 0:\n",
    "            nums[low], nums[mid] = nums[mid], nums[low]\n",
    "            low += 1\n",
    "            mid += 1\n",
    "        elif nums[mid] == 1:\n",
    "            mid += 1\n",
    "        else:\n",
    "            nums[mid], nums[high] = nums[high], nums[mid]\n",
    "            high -= 1\n",
    "\n",
    "# Example usage\n",
    "arr = [0, 1, 1, 0, 1, 2, 1, 2, 0, 0, 0, 1]\n",
    "sort_colors(arr)\n",
    "print(\"Sorted array:\", arr)"
   ]
  },
  {
   "cell_type": "code",
   "execution_count": null,
   "id": "1a5346fc-e399-4328-b8c4-504a9b7eabcf",
   "metadata": {},
   "outputs": [],
   "source": []
  }
 ],
 "metadata": {
  "kernelspec": {
   "display_name": "Python 3 (ipykernel)",
   "language": "python",
   "name": "python3"
  },
  "language_info": {
   "codemirror_mode": {
    "name": "ipython",
    "version": 3
   },
   "file_extension": ".py",
   "mimetype": "text/x-python",
   "name": "python",
   "nbconvert_exporter": "python",
   "pygments_lexer": "ipython3",
   "version": "3.10.8"
  }
 },
 "nbformat": 4,
 "nbformat_minor": 5
}
